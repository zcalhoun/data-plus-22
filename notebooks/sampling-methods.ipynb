{
 "cells": [
  {
   "cell_type": "markdown",
   "metadata": {},
   "source": [
    "# Methods for recreating a distribution from another distribution\n",
    "\n",
    "## 1 - Rejection Sampling\n",
    "\n",
    "In this demo, I show how to simulate a normal distribution from a set of points sampled uniformly using rejection sampling. The general gist of the idea is to reject points with some probability $p$ that is proportional to the probability of that point occurring in the target distribution."
   ]
  },
  {
   "cell_type": "code",
   "execution_count": 5,
   "metadata": {},
   "outputs": [],
   "source": [
    "import numpy as np\n",
    "import matplotlib.pyplot as plt\n",
    "from scipy.stats import norm"
   ]
  },
  {
   "cell_type": "code",
   "execution_count": 20,
   "metadata": {},
   "outputs": [
    {
     "data": {
      "image/png": "[encoded data removed]",
      "text/plain": [
       "<Figure size 432x288 with 1 Axes>"
      ]
     },
     "metadata": {
      "needs_background": "light"
     },
     "output_type": "display_data"
    }
   ],
   "source": [
    "# Generate 1000 random points between 0 and 10\n",
    "# This represents the data that we actually have.\n",
    "x = np.random.rand(1000) * 10\n",
    "plt.hist(x)\n",
    "plt.show()"
   ]
  },
  {
   "cell_type": "code",
   "execution_count": 21,
   "metadata": {},
   "outputs": [
    {
     "data": {
      "image/png": "[encoded data removed]",
      "text/plain": [
       "<Figure size 432x288 with 1 Axes>"
      ]
     },
     "metadata": {
      "needs_background": "light"
     },
     "output_type": "display_data"
    }
   ],
   "source": [
    "# To get an idea of what our target distribution should look like,\n",
    "# let's look at a normal distribution.\n",
    "f_x = np.random.normal(5,1, 1000)\n",
    "plt.hist(f_x)\n",
    "plt.show()"
   ]
  },
  {
   "cell_type": "code",
   "execution_count": 23,
   "metadata": {},
   "outputs": [
    {
     "data": {
      "image/png": "[encoded data removed]",
      "text/plain": [
       "<Figure size 432x288 with 1 Axes>"
      ]
     },
     "metadata": {
      "needs_background": "light"
     },
     "output_type": "display_data"
    }
   ],
   "source": [
    "# Let's re-create that target distribution using just the sampled data\n",
    "# from the uniform distribution.\n",
    "\n",
    "# First, calculate the mode of the normal distribution.\n",
    "# This is the point at which the the probability is highest.\n",
    "# In the case of a normal distribution, this is the same thing\n",
    "# as the mean.\n",
    "ceiling = norm.pdf(5,5,1)\n",
    "\n",
    "# For each of the points, calculate the probability of that\n",
    "# point being in a normal (5,1) distribution\n",
    "keep = []\n",
    "for point in x:\n",
    "\t# Randomly generate a number between 0 and the highest probability.\n",
    "\tprob = np.random.rand() * ceiling\n",
    "\n",
    "\t# Calculate our acceptance ratio.\n",
    "\taccept = norm.pdf(point, 5, 1)\n",
    "\n",
    "\t# If the randomly generated number is less than the acceptance\n",
    "\t# probability, then keep the point.\n",
    "\tif (prob < accept):\n",
    "\t\tkeep.append(point)\n",
    "\telse:\n",
    "\t\t# We reject that point by not appending it\n",
    "\t\t# to the list.\n",
    "\t\tcontinue\n",
    "\n",
    "plt.hist(keep)\n",
    "plt.show()"
   ]
  },
  {
   "cell_type": "code",
   "execution_count": 26,
   "metadata": {},
   "outputs": [
    {
     "name": "stdout",
     "output_type": "stream",
     "text": [
      "The acceptance ratio is 0.252.\n"
     ]
    }
   ],
   "source": [
    "print(f\"The acceptance ratio is {len(keep)/len(x)}.\")"
   ]
  }
 ],
 "metadata": {
  "kernelspec": {
   "display_name": "Python 3.8.8 ('base')",
   "language": "python",
   "name": "python3"
  },
  "language_info": {
   "codemirror_mode": {
    "name": "ipython",
    "version": 3
   },
   "file_extension": ".py",
   "mimetype": "text/x-python",
   "name": "python",
   "nbconvert_exporter": "python",
   "pygments_lexer": "ipython3",
   "version": "3.8.8"
  },
  "orig_nbformat": 4,
  "vscode": {
   "interpreter": {
    "hash": "40d3a090f54c6569ab1632332b64b2c03c39dcf918b08424e98f38b5ae0af88f"
   }
  }
 },
 "nbformat": 4,
 "nbformat_minor": 2
}
