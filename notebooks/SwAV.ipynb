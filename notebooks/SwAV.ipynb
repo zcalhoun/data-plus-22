{
 "cells": [
  {
   "cell_type": "code",
   "execution_count": 6,
   "metadata": {},
   "outputs": [],
   "source": [
    "import os\n",
    "import numpy as np\n",
    "import pandas as pd\n",
    "import matplotlib.pyplot as plt\n",
    "from PIL import Image\n",
    "\n",
    "import torch\n",
    "import torch.nn as nn\n",
    "from torch.utils.data import Dataset\n",
    "from torchvision import datasets, transforms\n",
    "\n",
    "from sklearn.model_selection import train_test_split"
   ]
  },
  {
   "cell_type": "code",
   "execution_count": 78,
   "metadata": {},
   "outputs": [
    {
     "name": "stderr",
     "output_type": "stream",
     "text": [
      "Using cache found in /home/zdc6/.cache/torch/hub/facebookresearch_swav_main\n"
     ]
    }
   ],
   "source": [
    "# Import the model and remove the last 2 layers\n",
    "model = torch.hub.load('facebookresearch/swav:main', 'resnet50')\n",
    "model.fc = nn.Identity()\n",
    "# model.avgpool = nn.Identity()"
   ]
  },
  {
   "cell_type": "code",
   "execution_count": 94,
   "metadata": {},
   "outputs": [],
   "source": [
    "# A special class is required to work with this data, since the data is not\n",
    "# organized by label already. All this does is tell the data loader how to pull the \n",
    "# data and labels\n",
    "#\n",
    "# See documentation here: https://pytorch.org/tutorials/beginner/basics/data_tutorial.html \n",
    "\n",
    "def pil_loader(path):\n",
    "    # open path as file to avoid ResourceWarning (https://github.com/python-pillow/Pillow/issues/835)\n",
    "    with open(path, 'rb') as f:\n",
    "        img = Image.open(f)\n",
    "        return img.convert('RGB')\n",
    "\n",
    "class CustomImageDataset(datasets.VisionDataset):\n",
    "\tdef __init__(\n",
    "\t\tself,\n",
    "\t\tparent_dir,\n",
    "\t\tfiles,\n",
    "\t\tlabels,\n",
    "\t\tlabel_index,\n",
    "\t\ttransform=None\n",
    "\t\t):\n",
    "\n",
    "\t\tself.labels = labels\n",
    "\t\tself.transform = transform\n",
    "\t\tself.img_files = files\n",
    "\t\tself.label_index = label_index\n",
    "\t\tself.img_dir = parent_dir\n",
    "\n",
    "\tdef __len__(self):\n",
    "\t\treturn len(self.img_files)\n",
    "\n",
    "\tdef __getitem__(self, idx):\n",
    "\t\t\"\"\"\n",
    "\t\tThis function pulls the data from the image directory, looks up the\n",
    "\t\tdata, and returns the photo, along with the label associated with\n",
    "\t\tthe image.\n",
    "\t\t\"\"\"\n",
    "\n",
    "\t\t# Get the image at index __\n",
    "\t\timg_path = os.path.join(self.img_dir, self.img_files[idx])\n",
    "\t\tfile_name = self.img_files[idx]\n",
    "\t\timage = pil_loader(img_path)\n",
    "\t\t# image = Image.open(img_path)\n",
    "\n",
    "\t\tif self.transform:\n",
    "\t\t\timage = self.transform(image)\n",
    "\n",
    "\t\tlabel = self.labels[idx]\n",
    "\n",
    "\t\t# Return the image and the label\n",
    "\t\treturn image, torch.tensor(self.label_index.get(label))"
   ]
  },
  {
   "cell_type": "code",
   "execution_count": 95,
   "metadata": {},
   "outputs": [],
   "source": [
    "# Generate the dataset from only the validation data\n",
    "data_dir = '../data/ImageNet/ILSVRC/Data/CLS-LOC/val'\n",
    "data_files = os.listdir(data_dir)\n",
    "# This file provides the mapping from the file name to the class label.\n",
    "labels_file = '../data/ImageNet/LOC_val_solution.csv'\n",
    "label_map = {key: value.split(\" \")[0] for key, value in pd.read_csv(labels_file).to_numpy()}\n",
    "labels = [label_map[image_id[0:-5]] for image_id in data_files]\n",
    "label_index = {key: idx for idx, key in enumerate(list(set(labels)))}\n",
    "\n",
    "train_files, val_files, train_labels, val_labels = train_test_split(data_files, labels, test_size=0.2, stratify=labels)\n",
    "\n",
    "train_dataset = CustomImageDataset(\n",
    "\tdata_dir,\n",
    "\ttrain_files,\n",
    "\ttrain_labels,\n",
    "\tlabel_index,\n",
    "\ttransforms.Compose([\n",
    "        transforms.RandomResizedCrop(224),\t\n",
    "\t\ttransforms.RandomHorizontalFlip(),\n",
    "\t\ttransforms.ToTensor(),\n",
    "        transforms.Normalize([0.485, 0.456, 0.406], [0.229, 0.224, 0.225])\n",
    "    ])\n",
    ")\n",
    "\n",
    "val_dataset = CustomImageDataset(\n",
    "\tdata_dir,\n",
    "\tval_files,\n",
    "\tval_labels,\n",
    "\tlabel_index,\n",
    "\ttransforms.Compose([\n",
    "\t\ttransforms.Resize(256),\n",
    "\t\ttransforms.CenterCrop(224),\n",
    "\t\ttransforms.ToTensor(),\n",
    "\t\ttransforms.Normalize([0.485, 0.456, 0.406], [0.229, 0.224, 0.225]),\n",
    "\t\t\n",
    "\t])\n",
    ")"
   ]
  },
  {
   "cell_type": "code",
   "execution_count": 96,
   "metadata": {},
   "outputs": [],
   "source": [
    "batch_size=32\n",
    "# Set up train and val loaders for the data\n",
    "train_loader = torch.utils.data.DataLoader(\n",
    "\ttrain_dataset,\n",
    "\tbatch_size=batch_size\n",
    ")\n",
    "val_loader = torch.utils.data.DataLoader(\n",
    "\tval_dataset,\n",
    "\tbatch_size=batch_size\n",
    ")"
   ]
  },
  {
   "cell_type": "code",
   "execution_count": 97,
   "metadata": {},
   "outputs": [],
   "source": [
    "# Set up the part of the model that is going to be changed.\n",
    "# Code copied from here: https://github.com/facebookresearch/swav/blob/main/eval_linear.py\n",
    "class RegLog(nn.Module):\n",
    "    \"\"\"Creates logistic regression on top of frozen features\"\"\"\n",
    "\n",
    "    def __init__(self, num_labels, arch=\"resnet50\", global_avg=False, use_bn=True):\n",
    "        super(RegLog, self).__init__()\n",
    "        self.bn = None\n",
    "        if global_avg:\n",
    "            if arch == \"resnet50\":\n",
    "                s = 2048\n",
    "            elif arch == \"resnet50w2\":\n",
    "                s = 4096\n",
    "            elif arch == \"resnet50w4\":\n",
    "                s = 8192\n",
    "            # self.av_pool = nn.AdaptiveAvgPool2d((1, 1))\n",
    "        else:\n",
    "            assert arch == \"resnet50\"\n",
    "            s = 8192\n",
    "            self.av_pool = nn.AvgPool2d(6, stride=1)\n",
    "            if use_bn:\n",
    "                self.bn = nn.BatchNorm2d(2048)\n",
    "        self.linear = nn.Linear(s, num_labels)\n",
    "        self.linear.weight.data.normal_(mean=0.0, std=0.01)\n",
    "        self.linear.bias.data.zero_()\n",
    "\n",
    "    def forward(self, x):\n",
    "        # average pool the final feature map\n",
    "        # x = self.av_pool(x)\n",
    "\n",
    "        # optional BN\n",
    "        if self.bn is not None:\n",
    "            x = self.bn(x)\n",
    "\n",
    "        # flatten\n",
    "        x = x.view(x.size(0), -1)\n",
    "\n",
    "        # linear layer\n",
    "        return self.linear(x)\n",
    "\n",
    "\n",
    "linear_classifier = RegLog(1000, \"resnet50\", True, False)"
   ]
  },
  {
   "cell_type": "code",
   "execution_count": 99,
   "metadata": {},
   "outputs": [],
   "source": [
    "# Set up the training parameters\n",
    "optimizer = torch.optim.SGD(\n",
    "\tlinear_classifier.parameters(),\n",
    "\tlr=0.01,\n",
    "\tnesterov=False,\n",
    "\tmomentum=0.9,\n",
    "\tweight_decay=1e-6\n",
    ")\n",
    "num_epochs=10"
   ]
  },
  {
   "cell_type": "code",
   "execution_count": 110,
   "metadata": {},
   "outputs": [],
   "source": [
    "# For capturing accuracy\n",
    "def accuracy(output, target, topk=(1,)):\n",
    "    \"\"\"Computes the accuracy over the k top predictions for the specified values of k\"\"\"\n",
    "    with torch.no_grad():\n",
    "        maxk = max(topk)\n",
    "        batch_size = target.size(0)\n",
    "\n",
    "        _, pred = output.topk(maxk, 1, True, True)\n",
    "        pred = pred.t()\n",
    "        correct = pred.eq(target.view(1, -1).expand_as(pred))\n",
    "\n",
    "        res = []\n",
    "        for k in topk:\n",
    "            correct_k = correct[:k].reshape(-1).float().sum(0, keepdim=True)\n",
    "            res.append(correct_k.mul_(100.0 / batch_size))\n",
    "        return res"
   ]
  },
  {
   "cell_type": "code",
   "execution_count": 100,
   "metadata": {},
   "outputs": [],
   "source": [
    "model = model.to('cuda')\n",
    "linear_classifier = linear_classifier.to('cuda')\n",
    "\n",
    "# Set up where we want to stor data\n",
    "training_loss = []\n",
    "val_loss = []\n",
    "\n",
    "top_1_acc = []\n",
    "top_5_acc = []"
   ]
  },
  {
   "cell_type": "code",
   "execution_count": 125,
   "metadata": {},
   "outputs": [],
   "source": [
    "optimizer.lr = 0.001"
   ]
  },
  {
   "cell_type": "code",
   "execution_count": 126,
   "metadata": {},
   "outputs": [
    {
     "name": "stdout",
     "output_type": "stream",
     "text": [
      "Batch 0 train loss: 0.09\n",
      "Batch 200 train loss: 0.08\n",
      "Batch 400 train loss: 0.09\n",
      "Batch 600 train loss: 0.08\n",
      "Batch 800 train loss: 0.08\n",
      "Batch 1000 train loss: 0.08\n",
      "Batch 1200 train loss: 0.07\n",
      "Epoch 0 training loss: 0.08\n",
      "Batch 0 val loss: 2.90\n",
      "Batch 200 val loss: 2.18\n",
      "Epoch 0 test loss: 0.08\n",
      "Batch 0 train loss: 0.08\n",
      "Batch 200 train loss: 0.08\n",
      "Batch 400 train loss: 0.08\n",
      "Batch 600 train loss: 0.07\n",
      "Batch 800 train loss: 0.08\n",
      "Batch 1000 train loss: 0.08\n",
      "Batch 1200 train loss: 0.07\n",
      "Epoch 1 training loss: 0.08\n",
      "Batch 0 val loss: 2.82\n",
      "Batch 200 val loss: 2.09\n",
      "Epoch 1 test loss: 0.08\n",
      "Batch 0 train loss: 0.09\n",
      "Batch 200 train loss: 0.08\n",
      "Batch 400 train loss: 0.08\n",
      "Batch 600 train loss: 0.07\n",
      "Batch 800 train loss: 0.08\n",
      "Batch 1000 train loss: 0.07\n",
      "Batch 1200 train loss: 0.07\n",
      "Epoch 2 training loss: 0.08\n",
      "Batch 0 val loss: 2.75\n",
      "Batch 200 val loss: 1.99\n",
      "Epoch 2 test loss: 0.07\n",
      "Batch 0 train loss: 0.08\n"
     ]
    },
    {
     "ename": "KeyboardInterrupt",
     "evalue": "",
     "output_type": "error",
     "traceback": [
      "\u001b[0;31m---------------------------------------------------------------------------\u001b[0m",
      "\u001b[0;31mKeyboardInterrupt\u001b[0m                         Traceback (most recent call last)",
      "\u001b[0;32m<ipython-input-126-8ea8d5d6244e>\u001b[0m in \u001b[0;36m<module>\u001b[0;34m\u001b[0m\n\u001b[1;32m     19\u001b[0m                 \u001b[0;31m# Calculate the loss and update the parameters\u001b[0m\u001b[0;34m\u001b[0m\u001b[0;34m\u001b[0m\u001b[0;34m\u001b[0m\u001b[0m\n\u001b[1;32m     20\u001b[0m                 \u001b[0mloss\u001b[0m \u001b[0;34m=\u001b[0m \u001b[0mcriterion\u001b[0m\u001b[0;34m(\u001b[0m\u001b[0moutput\u001b[0m\u001b[0;34m,\u001b[0m \u001b[0mtarget\u001b[0m\u001b[0;34m)\u001b[0m\u001b[0;34m\u001b[0m\u001b[0;34m\u001b[0m\u001b[0m\n\u001b[0;32m---> 21\u001b[0;31m                 \u001b[0mtrain_loss\u001b[0m \u001b[0;34m+=\u001b[0m \u001b[0mloss\u001b[0m\u001b[0;34m.\u001b[0m\u001b[0mitem\u001b[0m\u001b[0;34m(\u001b[0m\u001b[0;34m)\u001b[0m \u001b[0;34m/\u001b[0m \u001b[0minp\u001b[0m\u001b[0;34m.\u001b[0m\u001b[0msize\u001b[0m\u001b[0;34m(\u001b[0m\u001b[0;36m0\u001b[0m\u001b[0;34m)\u001b[0m\u001b[0;34m\u001b[0m\u001b[0;34m\u001b[0m\u001b[0m\n\u001b[0m\u001b[1;32m     22\u001b[0m                 \u001b[0moptimizer\u001b[0m\u001b[0;34m.\u001b[0m\u001b[0mzero_grad\u001b[0m\u001b[0;34m(\u001b[0m\u001b[0;34m)\u001b[0m\u001b[0;34m\u001b[0m\u001b[0;34m\u001b[0m\u001b[0m\n\u001b[1;32m     23\u001b[0m                 \u001b[0mloss\u001b[0m\u001b[0;34m.\u001b[0m\u001b[0mbackward\u001b[0m\u001b[0;34m(\u001b[0m\u001b[0;34m)\u001b[0m\u001b[0;34m\u001b[0m\u001b[0;34m\u001b[0m\u001b[0m\n",
      "\u001b[0;31mKeyboardInterrupt\u001b[0m: "
     ]
    }
   ],
   "source": [
    "for epoch in range(num_epochs):\n",
    "\ttrain_loss = 0\n",
    "\t# Train\n",
    "\tmodel.eval()\n",
    "\tlinear_classifier.train()\n",
    "\tcriterion = nn.CrossEntropyLoss().cuda()\n",
    "\n",
    "\tfor iter_epoch, (inp, target) in enumerate(train_loader):\n",
    "\t\tbatch_loss = 0\n",
    "\t\t# move to gpu\n",
    "\t\tinp = inp.to('cuda')\n",
    "\t\ttarget = target.to('cuda')# cuda(non_blocking=True)\n",
    "\n",
    "\t\twith torch.no_grad():\n",
    "\t\t\toutput = model(inp)\n",
    "\n",
    "\t\toutput = linear_classifier(output)\n",
    "\n",
    "\t\t# Calculate the loss and update the parameters\n",
    "\t\tloss = criterion(output, target)\n",
    "\t\ttrain_loss += loss.item() / inp.size(0)\n",
    "\t\toptimizer.zero_grad()\n",
    "\t\tloss.backward()\n",
    "\t\toptimizer.step()\n",
    "\n",
    "\t\t# Print the batch loss\n",
    "\t\tif iter_epoch % 200 == 0:\n",
    "\t\t\tprint(f\"Batch {iter_epoch} train loss: {loss.item() / inp.size(0):.2f}\")\n",
    "\n",
    "\tavg_loss = train_loss/iter_epoch\n",
    "\tprint(f\"Epoch {epoch} training loss: {avg_loss:.2f}\")\n",
    "\ttraining_loss.append(avg_loss)\n",
    "\t# Validation\n",
    "\ttest_loss = 0\n",
    "\tmodel.eval()\n",
    "\tlinear_classifier.eval()\n",
    "\n",
    "\tcriterion = nn.CrossEntropyLoss().cuda()\n",
    "\n",
    "\ttop_1 = []\n",
    "\ttop_5 = []\n",
    "\twith torch.no_grad():\n",
    "\t\tfor iter_epoch, (inp, target) in enumerate(val_loader):\n",
    "\t\t\t# move to gpu\n",
    "\t\t\tinp = inp.cuda(non_blocking=True)\n",
    "\t\t\ttarget = target.cuda(non_blocking=True)\n",
    "\n",
    "\t\t\t# compute output\n",
    "\t\t\toutput = linear_classifier(model(inp))\n",
    "\t\t\tloss = criterion(output, target)\n",
    "\t\t\ttest_loss += loss.item() / inp.size(0)\n",
    "\t\t\tacc1, acc5 = accuracy(output, target, topk=(1,5))\n",
    "\t\t\ttop_1.append(acc1.item())\n",
    "\t\t\ttop_5.append(acc5.item())\n",
    "\t\t\tif iter_epoch % 200 == 0: \n",
    "\t\t\t\tprint(f\"Batch {iter_epoch} val loss: {loss.item():.2f}\")\n",
    "\tavg_loss = test_loss / iter_epoch\n",
    "\tprint(f\"Epoch {epoch} test loss: {avg_loss:.2f}\")\n",
    "\tval_loss.append(avg_loss)\n",
    "\n",
    "\t# Record top-1 accuracy\n",
    "\ttop_1_acc.append(np.mean(top_1))\n",
    "\ttop_5_acc.append(np.mean(top_5))\n"
   ]
  },
  {
   "cell_type": "code",
   "execution_count": 129,
   "metadata": {},
   "outputs": [
    {
     "data": {
      "text/plain": [
       "[<matplotlib.lines.Line2D at 0x7f9efaeafe50>]"
      ]
     },
     "execution_count": 129,
     "metadata": {},
     "output_type": "execute_result"
    },
    {
     "data": {
      "image/png": "[encoded data removed]",
      "text/plain": [
       "<Figure size 432x288 with 1 Axes>"
      ]
     },
     "metadata": {
      "needs_background": "light"
     },
     "output_type": "display_data"
    }
   ],
   "source": [
    "plt.plot(training_loss)\n",
    "plt.plot(val_loss)"
   ]
  },
  {
   "cell_type": "code",
   "execution_count": 130,
   "metadata": {},
   "outputs": [
    {
     "data": {
      "text/plain": [
       "[<matplotlib.lines.Line2D at 0x7f9ef5db0d60>]"
      ]
     },
     "execution_count": 130,
     "metadata": {},
     "output_type": "execute_result"
    },
    {
     "data": {
      "image/png": "[encoded data removed]",
      "text/plain": [
       "<Figure size 432x288 with 1 Axes>"
      ]
     },
     "metadata": {
      "needs_background": "light"
     },
     "output_type": "display_data"
    }
   ],
   "source": [
    "plt.plot(top_1_acc)\n",
    "plt.plot(top_5_acc)\n",
    "plt.legend(\"\")"
   ]
  }
 ],
 "metadata": {
  "kernelspec": {
   "display_name": "Python 3",
   "language": "python",
   "name": "python3"
  },
  "language_info": {
   "codemirror_mode": {
    "name": "ipython",
    "version": 3
   },
   "file_extension": ".py",
   "mimetype": "text/x-python",
   "name": "python",
   "nbconvert_exporter": "python",
   "pygments_lexer": "ipython3",
   "version": "3.8.10"
  }
 },
 "nbformat": 4,
 "nbformat_minor": 4
}
