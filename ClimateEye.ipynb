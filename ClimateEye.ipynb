{
  "nbformat": 4,
  "nbformat_minor": 0,
  "metadata": {
    "colab": {
      "name": "ClimateEye.ipynb",
      "provenance": [],
      "collapsed_sections": []
    },
    "kernelspec": {
      "name": "python3",
      "display_name": "Python 3"
    },
    "language_info": {
      "name": "python"
    }
  },
  "cells": [
    {
      "cell_type": "code",
      "source": [
        "!pip install geetools \n",
        "!pip install geemap"
      ],
      "metadata": {
        "id": "KKh-W2DG3cp-",
        "colab": {
          "base_uri": "https://localhost:8080/"
        },
        "outputId": "34f0af48-fc8f-4e3a-c8af-92d8c92023c0"
      },
      "execution_count": 4,
      "outputs": [
        {
          "output_type": "stream",
          "name": "stdout",
          "text": [
            "Looking in indexes: https://pypi.org/simple, https://us-python.pkg.dev/colab-wheels/public/simple/\n",
            "Collecting geetools\n",
            "  Downloading geetools-0.6.14.tar.gz (74 kB)\n",
            "\u001b[K     |████████████████████████████████| 74 kB 2.7 MB/s \n",
            "\u001b[?25hRequirement already satisfied: requests in /usr/local/lib/python3.7/dist-packages (from geetools) (2.23.0)\n",
            "Collecting pyshp\n",
            "  Downloading pyshp-2.3.0-py2.py3-none-any.whl (46 kB)\n",
            "\u001b[K     |████████████████████████████████| 46 kB 3.9 MB/s \n",
            "\u001b[?25hRequirement already satisfied: pandas in /usr/local/lib/python3.7/dist-packages (from geetools) (1.3.5)\n",
            "Requirement already satisfied: numpy>=1.17.3 in /usr/local/lib/python3.7/dist-packages (from pandas->geetools) (1.21.6)\n",
            "Requirement already satisfied: pytz>=2017.3 in /usr/local/lib/python3.7/dist-packages (from pandas->geetools) (2022.1)\n",
            "Requirement already satisfied: python-dateutil>=2.7.3 in /usr/local/lib/python3.7/dist-packages (from pandas->geetools) (2.8.2)\n",
            "Requirement already satisfied: six>=1.5 in /usr/local/lib/python3.7/dist-packages (from python-dateutil>=2.7.3->pandas->geetools) (1.15.0)\n",
            "Requirement already satisfied: chardet<4,>=3.0.2 in /usr/local/lib/python3.7/dist-packages (from requests->geetools) (3.0.4)\n",
            "Requirement already satisfied: idna<3,>=2.5 in /usr/local/lib/python3.7/dist-packages (from requests->geetools) (2.10)\n",
            "Requirement already satisfied: certifi>=2017.4.17 in /usr/local/lib/python3.7/dist-packages (from requests->geetools) (2022.5.18.1)\n",
            "Requirement already satisfied: urllib3!=1.25.0,!=1.25.1,<1.26,>=1.21.1 in /usr/local/lib/python3.7/dist-packages (from requests->geetools) (1.24.3)\n",
            "Building wheels for collected packages: geetools\n",
            "  Building wheel for geetools (setup.py) ... \u001b[?25l\u001b[?25hdone\n",
            "  Created wheel for geetools: filename=geetools-0.6.14-py3-none-any.whl size=92107 sha256=628f22d14075887ff772d875dd17e530c24b1455cb318f041d1e6f462b314fc0\n",
            "  Stored in directory: /root/.cache/pip/wheels/5c/55/29/0a09dcf6b39bba8c890e40171cac3e3607a5c4b354b7e9447c\n",
            "Successfully built geetools\n",
            "Installing collected packages: pyshp, geetools\n",
            "Successfully installed geetools-0.6.14 pyshp-2.3.0\n"
          ]
        }
      ]
    },
    {
      "cell_type": "code",
      "execution_count": 130,
      "metadata": {
        "id": "K929_V3SbvWQ"
      },
      "outputs": [],
      "source": [
        "import ee\n",
        "import csv\n",
        "import time\n",
        "from geetools import batch\n",
        "from tqdm import tqdm\n",
        "from argparse import ArgumentParser\n",
        "import requests\n",
        "import matplotlib.pyplot as plt\n",
        "import geemap\n",
        "import folium\n",
        "import math"
      ]
    },
    {
      "cell_type": "code",
      "source": [
        ""
      ],
      "metadata": {
        "id": "ZQSUcd_L3b_Y"
      },
      "execution_count": 8,
      "outputs": []
    },
    {
      "cell_type": "code",
      "source": [
        "# Trigger the authentication flow.\n",
        "ee.Authenticate()\n",
        "\n",
        "# Initialize the library.\n",
        "ee.Initialize()"
      ],
      "metadata": {
        "colab": {
          "base_uri": "https://localhost:8080/"
        },
        "id": "hMHi84Pzb9Pa",
        "outputId": "7a2ca36b-d931-431b-c660-62b6f28325c3"
      },
      "execution_count": 9,
      "outputs": [
        {
          "output_type": "stream",
          "name": "stdout",
          "text": [
            "To authorize access needed by Earth Engine, open the following URL in a web browser and follow the instructions. If the web browser does not start automatically, please manually browse the URL below.\n",
            "\n",
            "    https://code.earthengine.google.com/client-auth?scopes=https%3A//www.googleapis.com/auth/earthengine%20https%3A//www.googleapis.com/auth/devstorage.full_control&request_id=vxUWNlj6paC7YYsk5gsFfTosGbqcYpXx6KU2h_68Q2w&tc=m2O3GOzf99xxjDhPxEjtTI-BIJU_k0Q1_ISn3zPFGsQ&cc=qHF2oyREoRmridosMR8lRAoyH0xbO-pDiWmM0FWAoPw\n",
            "\n",
            "The authorization workflow will generate a code, which you should paste in the box below. \n",
            "Enter verification code: 4/1AX4XfWi38okSGCWHZBry9OvMMm3M5tud8nrbjs1xSmDtQOglTh7JGk66CQw\n",
            "\n",
            "Successfully saved authorization token.\n"
          ]
        }
      ]
    },
    {
      "cell_type": "code",
      "source": [
        "# Print the elevation of Mount Everest.\n",
        "dem = ee.Image('USGS/SRTMGL1_003')\n",
        "xy = ee.Geometry.Point([86.9250, 27.9881])\n",
        "elev = dem.sample(xy, 30).first().get('elevation').getInfo()\n",
        "print('Mount Everest elevation (m):', elev)"
      ],
      "metadata": {
        "colab": {
          "base_uri": "https://localhost:8080/"
        },
        "id": "jWWk5iEEc3tr",
        "outputId": "3e9cf51b-403e-4e4e-9eb2-b5c20e3213d5"
      },
      "execution_count": 10,
      "outputs": [
        {
          "output_type": "stream",
          "name": "stdout",
          "text": [
            "Mount Everest elevation (m): 8729\n"
          ]
        }
      ]
    },
    {
      "cell_type": "code",
      "source": [
        "# Define a method for displaying Earth Engine image tiles to folium map.\n",
        "def add_ee_layer(self, ee_image_object, vis_params, name):\n",
        "  map_id_dict = ee.Image(ee_image_object).getMapId(vis_params)\n",
        "  folium.raster_layers.TileLayer(\n",
        "    tiles = map_id_dict['tile_fetcher'].url_format,\n",
        "    attr = 'Map Data &copy; <a href=\"https://earthengine.google.com/\">Google Earth Engine</a>',\n",
        "    name = name,\n",
        "    overlay = True,\n",
        "    control = True\n",
        "  ).add_to(self)\n",
        "\n",
        "# Add EE drawing method to folium.\n",
        "folium.Map.add_ee_layer = add_ee_layer\n",
        "\n",
        "# Set visualization parameters.\n",
        "vis_params = {\n",
        "  'min': 0,\n",
        "  'max': 4000,\n",
        "  'palette': ['006633', 'E5FFCC', '662A00', 'D8D8D8', 'F5F5F5']}\n",
        "\n",
        "# Create a folium map object.\n",
        "my_map = folium.Map(location=[20, 0], zoom_start=3)\n",
        "\n",
        "# Add the elevation model to the map object.\n",
        "my_map.add_ee_layer(dem.updateMask(dem.gt(0)), vis_params, 'DEM')\n",
        "\n",
        "# Add a layer control panel to the map.\n",
        "my_map.add_child(folium.LayerControl())\n",
        "\n",
        "# Display the map.\n",
        "display(my_map)"
      ],
      "metadata": {
        "id": "OoZIlLXrdCF4"
      },
      "execution_count": null,
      "outputs": []
    },
    {
      "cell_type": "code",
      "source": [
        "##might have to come up with different formula \n",
        "## concern 1: does this result in the desired pixel dimesions of image\n",
        "## concern 2: should we not use radial distance instead? \n",
        "# def getSquareImageCorners(lat, lon, height, width):\n",
        "#     offset = 0.2\n",
        "#     xMin = lon - offset\n",
        "#     xMax = lon + offset  \n",
        "#     yMin = lat - offset\n",
        "#     yMax = lat + offset\n",
        "#     return xMin, xMax, yMin, yMax "
      ],
      "metadata": {
        "id": "_t3pXiUzt8pU"
      },
      "execution_count": 12,
      "outputs": []
    },
    {
      "cell_type": "code",
      "source": [
        "## find a bounding box\n",
        "# resolution = input()\n",
        "resLandsat = 30\n",
        "def boundingBox(lat, lon, size, res):\n",
        "\n",
        "  earth_radius = 6371000\n",
        "  angular_distance = math.degrees(0.5 * ((size * res) / earth_radius))\n",
        "  osLat = angular_distance\n",
        "  osLon = angular_distance / math.cos(math.radians(lat))\n",
        "  xMin = lon - osLon\n",
        "  xMax = lon + osLon\n",
        "  yMin = lat - osLat\n",
        "  yMax = lat + osLat\n",
        "  return xMin, xMax, yMin, yMax"
      ],
      "metadata": {
        "id": "RY7RqsJjjEW0"
      },
      "execution_count": 120,
      "outputs": []
    },
    {
      "cell_type": "code",
      "source": [
        "landsat = ee.ImageCollection(\"LANDSAT/LC08/C02/T1_TOA\")"
      ],
      "metadata": {
        "id": "cedS7IiqeZMa"
      },
      "execution_count": 121,
      "outputs": []
    },
    {
      "cell_type": "code",
      "source": [
        "start_date = '2017-01-01'\n",
        "end_date = '2018-01-01'"
      ],
      "metadata": {
        "id": "wG-bdwYsnFWu"
      },
      "execution_count": 122,
      "outputs": []
    },
    {
      "cell_type": "code",
      "source": [
        "# RGB_VIZ = {'bands':['B4', 'B3', 'B2'], 'min':0, 'max':0.4}\n",
        "\n",
        "# res = 30 \n",
        "\n",
        "# crs = 'EPSG:3857'\n",
        "# crs2 = 'EPSG:4326'\n",
        "# fileFormat = 'GeoTIFF'\n",
        "# cloud_percent = 20\n",
        "\n",
        "# #   with open(filepath) as coords_file:\n",
        "# #     coords = csv.reader(coords_file)\n",
        "# #     for coord in coords:\n",
        "# #         lat = coord[0]\n",
        "# #         lon = coord[1]\n",
        "\n",
        "\n",
        "# lat = 35.994034\n",
        "# lon = -78.898621\n",
        "# description = 'test_image_0'\n",
        "# start='2017-01-01'\n",
        "# end='2020-01-01'\n",
        "# height = 512\n",
        "\n",
        "# xMin, xMax, yMin, yMax = boundingBox(lat, lon, height, res)\n",
        "# geometry = ee.Geometry.Rectangle([[xMin, yMin],[xMax, yMax]])\n",
        "\n",
        "# filtered = landsat.filterDate(start, end).filterBounds(geometry)\n",
        "# image = filtered.median().clip(geometry).select(['B2', 'B3', 'B4', 'B5'])\n",
        "# #image = image.visualize(RGB_VIZ)\n",
        "\n",
        "# map = folium.Map(location=[lat, lon], zoom_start=10)\n",
        "# #map.add_ee_layer(image, RGB_VIZ, 'rgb')\n",
        "# display(map)\n"
      ],
      "metadata": {
        "id": "ceaZOpi6bVmy"
      },
      "execution_count": null,
      "outputs": []
    },
    {
      "cell_type": "code",
      "source": [
        "def export_location(filepath='coordinates.csv',\n",
        "                    listOfCoords=[(35.994034, -78.898621)], \n",
        "                    dataset=landsat, \n",
        "                    start='2017-01-01', end='2020-01-01', \n",
        "                    bands=['B2', 'B3', 'B4', 'B5'], \n",
        "                    height=512, \n",
        "                    width=512):\n",
        "\n",
        "  ''' TODO:\n",
        "\n",
        "          add default values\n",
        "          add number of images to get param + interval between images? --> multi-temporal views (default=1)\n",
        "          change listOfCoords to file that has all coords\n",
        "          add support for pan-sharpening\n",
        "  '''\n",
        "\n",
        "  RGB_VIZ = {'min':0, 'max':0.4, 'bands':['B4', 'B3', 'B2']}\n",
        "\n",
        "  res = 30 if dataset == landsat else 10\n",
        "  \n",
        "  crs = 'EPSG:3857'\n",
        "  crs2 = 'EPSG:4326'\n",
        "  fileFormat = 'GeoTIFF'\n",
        "  cloud_percent = 20\n",
        "\n",
        "#   with open(filepath) as coords_file:\n",
        "#     coords = csv.reader(coords_file)\n",
        "#     for coord in coords:\n",
        "#         lat = coord[0]\n",
        "#         lon = coord[1]\n",
        "\n",
        "    # Define the visualization parameters.\n",
        "  image_viz_params = {'bands': ['B4', 'B3', 'B2'], 'min': 0, 'max': 0.5}\n",
        "\n",
        "\n",
        "  for idx, coord in enumerate(listOfCoords):\n",
        "    lat = coord[0]\n",
        "    lon = coord[1]\n",
        "    description = f'image_{idx}'\n",
        "\n",
        "    xMin, xMax, yMin, yMax = boundingBox(lat, lon, height, res)\n",
        "    geometry = ee.Geometry.Rectangle([[xMin, yMin],[xMax, yMax]])\n",
        "\n",
        "    RGB = ['B4', 'B3', 'B2'] if dataset == landsat else ['R', 'G', 'B']\n",
        "    filtered = dataset.filterDate(start, end).filterBounds(geometry).select(RGB)\n",
        "    image = ee.Image(filtered.median()).clip(geometry)\n",
        "    ##Landsat specific!! should change params depending on dataset\n",
        "    img = image.visualize(bands = RGB, min = 0, max = 0.5)\n",
        "    \n",
        "    ## OPTIONAL: just to view the map, to comment out when exporting more than 1 image\n",
        "    map = folium.Map(location=[lat, lon], zoom_start=10)\n",
        "    map.add_ee_layer(image, image_viz_params, 'rgb')\n",
        "    display(map)\n",
        "\n",
        "\n",
        "\n",
        "## later add if clause to run this if we want links\n",
        "\n",
        "    # url = image.getDownloadUrl({\n",
        "    # 'description':description,\n",
        "    # 'region':geometry,\n",
        "    # 'fileNamePrefix':description,\n",
        "    # 'crs':crs,\n",
        "    # 'fileFormat':fileFormat,\n",
        "    # 'bands': ['B4', 'B3', 'B2'],\n",
        "    # 'region': geometry,\n",
        "    # 'format': 'GEO_TIFF',\n",
        "    # #'scale': res,\n",
        "    # 'dimensions': [height, width]\n",
        "    # })\n",
        "\n",
        "    ## when exported using scale and region, images are 634x514, whereas specifiying dimesions forces the image to be of requested dims\n",
        "    ## exporting images using getDownloadUrl reuslts in ~700 kb files, whereas exporting to Drive results in 32+ Mb images\n",
        "\n",
        "    # response = requests.get(url)\n",
        "    # with open('test.tif', 'wb') as fd:\n",
        "    #   fd.write(response.content)\n",
        "\n",
        "\n",
        "    local_save = geemap.ee_export_image(img, \n",
        "                          filename=description+'.tif', \n",
        "                          scale=res, \n",
        "                          region=geometry,\n",
        "                          file_per_band=False)\n",
        "    \n",
        "\n",
        "    export_start_time = time.time()\n",
        "    task = ee.batch.Export.image.toDrive(image=img,\n",
        "                                     description=description,\n",
        "                                     scale=res, \n",
        "                                     region=geometry,\n",
        "                                     fileNamePrefix=description,\n",
        "                                     crs=crs,\n",
        "                                     fileFormat=fileFormat,\n",
        "                                     folder='June6 test')\n",
        "    task.start()\n",
        "\n",
        "    return image, task, export_start_time\n"
      ],
      "metadata": {
        "id": "JEPAt70-nuub"
      },
      "execution_count": 133,
      "outputs": []
    },
    {
      "cell_type": "code",
      "source": [
        "myimg, mytask, export_start_time = export_location(filepath='coordinates.csv',\n",
        "                    listOfCoords=[(35.994034, -78.898621)], \n",
        "                    dataset=landsat, \n",
        "                    start=start_date, \n",
        "                    end=end_date, \n",
        "                    bands=['B2', 'B3', 'B4', 'B5'], \n",
        "                    height=512, \n",
        "                    width=512)"
      ],
      "metadata": {
        "id": "m-iUyXKgxiU2",
        "colab": {
          "base_uri": "https://localhost:8080/",
          "height": 890
        },
        "outputId": "3aad77dc-b81b-4152-8f40-8a00a6cd0c9c"
      },
      "execution_count": 134,
      "outputs": [
        {
          "output_type": "display_data",
          "data": {
            "text/plain": [
              "<folium.folium.Map at 0x7f42d6891a10>"
            ],
            "text/html": [
              "<div style=\"width:100%;\"><div style=\"position:relative;width:100%;height:0;padding-bottom:60%;\"><span style=\"color:#565656\">Make this Notebook Trusted to load map: File -> Trust Notebook</span><iframe srcdoc=\"&lt;!DOCTYPE html&gt;\n",
              "&lt;head&gt;    \n",
              "    &lt;meta http-equiv=&quot;content-type&quot; content=&quot;text/html; charset=UTF-8&quot; /&gt;\n",
              "    &lt;script&gt;L_PREFER_CANVAS=false; L_NO_TOUCH=false; L_DISABLE_3D=false;&lt;/script&gt;\n",
              "    &lt;script src=&quot;https://cdn.jsdelivr.net/npm/leaflet@1.4.0/dist/leaflet.js&quot;&gt;&lt;/script&gt;\n",
              "    &lt;script src=&quot;https://code.jquery.com/jquery-1.12.4.min.js&quot;&gt;&lt;/script&gt;\n",
              "    &lt;script src=&quot;https://maxcdn.bootstrapcdn.com/bootstrap/3.2.0/js/bootstrap.min.js&quot;&gt;&lt;/script&gt;\n",
              "    &lt;script src=&quot;https://cdnjs.cloudflare.com/ajax/libs/Leaflet.awesome-markers/2.0.2/leaflet.awesome-markers.js&quot;&gt;&lt;/script&gt;\n",
              "    &lt;link rel=&quot;stylesheet&quot; href=&quot;https://cdn.jsdelivr.net/npm/leaflet@1.4.0/dist/leaflet.css&quot;/&gt;\n",
              "    &lt;link rel=&quot;stylesheet&quot; href=&quot;https://maxcdn.bootstrapcdn.com/bootstrap/3.2.0/css/bootstrap.min.css&quot;/&gt;\n",
              "    &lt;link rel=&quot;stylesheet&quot; href=&quot;https://maxcdn.bootstrapcdn.com/bootstrap/3.2.0/css/bootstrap-theme.min.css&quot;/&gt;\n",
              "    &lt;link rel=&quot;stylesheet&quot; href=&quot;https://maxcdn.bootstrapcdn.com/font-awesome/4.6.3/css/font-awesome.min.css&quot;/&gt;\n",
              "    &lt;link rel=&quot;stylesheet&quot; href=&quot;https://cdnjs.cloudflare.com/ajax/libs/Leaflet.awesome-markers/2.0.2/leaflet.awesome-markers.css&quot;/&gt;\n",
              "    &lt;link rel=&quot;stylesheet&quot; href=&quot;https://rawcdn.githack.com/python-visualization/folium/master/folium/templates/leaflet.awesome.rotate.css&quot;/&gt;\n",
              "    &lt;style&gt;html, body {width: 100%;height: 100%;margin: 0;padding: 0;}&lt;/style&gt;\n",
              "    &lt;style&gt;#map {position:absolute;top:0;bottom:0;right:0;left:0;}&lt;/style&gt;\n",
              "    \n",
              "    &lt;meta name=&quot;viewport&quot; content=&quot;width=device-width,\n",
              "        initial-scale=1.0, maximum-scale=1.0, user-scalable=no&quot; /&gt;\n",
              "    &lt;style&gt;#map_8ce7291b33c0bbada9c53cbe84ee9594 {\n",
              "        position: relative;\n",
              "        width: 100.0%;\n",
              "        height: 100.0%;\n",
              "        left: 0.0%;\n",
              "        top: 0.0%;\n",
              "        }\n",
              "    &lt;/style&gt;\n",
              "&lt;/head&gt;\n",
              "&lt;body&gt;    \n",
              "    \n",
              "    &lt;div class=&quot;folium-map&quot; id=&quot;map_8ce7291b33c0bbada9c53cbe84ee9594&quot; &gt;&lt;/div&gt;\n",
              "&lt;/body&gt;\n",
              "&lt;script&gt;    \n",
              "    \n",
              "    \n",
              "        var bounds = null;\n",
              "    \n",
              "\n",
              "    var map_8ce7291b33c0bbada9c53cbe84ee9594 = L.map(\n",
              "        &#x27;map_8ce7291b33c0bbada9c53cbe84ee9594&#x27;, {\n",
              "        center: [35.994034, -78.898621],\n",
              "        zoom: 10,\n",
              "        maxBounds: bounds,\n",
              "        layers: [],\n",
              "        worldCopyJump: false,\n",
              "        crs: L.CRS.EPSG3857,\n",
              "        zoomControl: true,\n",
              "        });\n",
              "\n",
              "\n",
              "    \n",
              "    var tile_layer_e22b32067d75c4f75c86072e4d93e75e = L.tileLayer(\n",
              "        &#x27;https://{s}.tile.openstreetmap.org/{z}/{x}/{y}.png&#x27;,\n",
              "        {\n",
              "        &quot;attribution&quot;: null,\n",
              "        &quot;detectRetina&quot;: false,\n",
              "        &quot;maxNativeZoom&quot;: 18,\n",
              "        &quot;maxZoom&quot;: 18,\n",
              "        &quot;minZoom&quot;: 0,\n",
              "        &quot;noWrap&quot;: false,\n",
              "        &quot;opacity&quot;: 1,\n",
              "        &quot;subdomains&quot;: &quot;abc&quot;,\n",
              "        &quot;tms&quot;: false\n",
              "}).addTo(map_8ce7291b33c0bbada9c53cbe84ee9594);\n",
              "    var tile_layer_bfacdad147a7aa3d764a433c19f971ab = L.tileLayer(\n",
              "        &#x27;https://earthengine.googleapis.com/v1alpha/projects/earthengine-legacy/maps/24189e6944f7e51245eac09ae6d8020c-55f34b84faad31fd569d7a35317691a7/tiles/{z}/{x}/{y}&#x27;,\n",
              "        {\n",
              "        &quot;attribution&quot;: &quot;Map Data &amp;copy; &lt;a href=\\&quot;https://earthengine.google.com/\\&quot;&gt;Google Earth Engine&lt;/a&gt;&quot;,\n",
              "        &quot;detectRetina&quot;: false,\n",
              "        &quot;maxNativeZoom&quot;: 18,\n",
              "        &quot;maxZoom&quot;: 18,\n",
              "        &quot;minZoom&quot;: 0,\n",
              "        &quot;noWrap&quot;: false,\n",
              "        &quot;opacity&quot;: 1,\n",
              "        &quot;subdomains&quot;: &quot;abc&quot;,\n",
              "        &quot;tms&quot;: false\n",
              "}).addTo(map_8ce7291b33c0bbada9c53cbe84ee9594);\n",
              "&lt;/script&gt;\" style=\"position:absolute;width:100%;height:100%;left:0;top:0;border:none !important;\" allowfullscreen webkitallowfullscreen mozallowfullscreen></iframe></div></div>"
            ]
          },
          "metadata": {}
        },
        {
          "output_type": "stream",
          "name": "stdout",
          "text": [
            "Generating URL ...\n",
            "Downloading data from https://earthengine.googleapis.com/v1alpha/projects/earthengine-legacy/thumbnails/c78f689f613e18f22b9d401298571340-16694e27232e6a980e7ba4072832a7f2:getPixels\n",
            "Please wait ...\n",
            "Data downloaded to /content/image_0.tif\n"
          ]
        }
      ]
    },
    {
      "cell_type": "code",
      "source": [
        "mytask.status()"
      ],
      "metadata": {
        "colab": {
          "base_uri": "https://localhost:8080/"
        },
        "id": "Z3yLrG9HKqgc",
        "outputId": "6b017498-b2cb-4fbc-b774-c03996341f53"
      },
      "execution_count": 135,
      "outputs": [
        {
          "output_type": "execute_result",
          "data": {
            "text/plain": [
              "{'creation_timestamp_ms': 1654552074736,\n",
              " 'description': 'image_0',\n",
              " 'id': 'F6UVGVLOJUNXJYJ5U7HUFB4C',\n",
              " 'name': 'projects/earthengine-legacy/operations/F6UVGVLOJUNXJYJ5U7HUFB4C',\n",
              " 'start_timestamp_ms': 0,\n",
              " 'state': 'READY',\n",
              " 'task_type': 'EXPORT_IMAGE',\n",
              " 'update_timestamp_ms': 1654552074736}"
            ]
          },
          "metadata": {},
          "execution_count": 135
        }
      ]
    },
    {
      "cell_type": "code",
      "source": [
        "state = mytask.status()['state']\n",
        "print(state)\n",
        "while state != 'COMPLETED':\n",
        "  previous = mytask.status()['state']\n",
        "  if mytask.status()['state'] != previous:\n",
        "    print(state)\n",
        "    previous = state\n",
        "  if state == 'FAILED':\n",
        "    break\n",
        "print('export complete!')\n",
        "export_finish_time = time.time()\n",
        "duration = export_finish_time - export_start_time\n",
        "print(f'exporting took: {duration} s')"
      ],
      "metadata": {
        "id": "UyFRuiGU53rt",
        "colab": {
          "base_uri": "https://localhost:8080/"
        },
        "outputId": "3dd23e34-ee5b-427c-ebd9-75a1a7d5c43a"
      },
      "execution_count": 139,
      "outputs": [
        {
          "output_type": "stream",
          "name": "stdout",
          "text": [
            "COMPLETED\n",
            "export complete!\n",
            "exporting took: 184.2360281944275 s\n"
          ]
        }
      ]
    },
    {
      "cell_type": "code",
      "source": [
        ""
      ],
      "metadata": {
        "id": "l89Nniz0JQ25"
      },
      "execution_count": null,
      "outputs": []
    }
  ]
}